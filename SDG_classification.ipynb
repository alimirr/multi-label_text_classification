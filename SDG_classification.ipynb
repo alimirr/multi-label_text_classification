{
 "cells": [
  {
   "cell_type": "code",
   "execution_count": 1,
   "metadata": {},
   "outputs": [],
   "source": [
    "import pandas as pd\n",
    "import matplotlib.pyplot as plt\n",
    "from __future__ import division  # Python 2 users only\n",
    "import nltk, re, pprint\n",
    "from nltk import word_tokenize\n",
    "from nltk.corpus import stopwords \n",
    "from sklearn.preprocessing import OneHotEncoder\n",
    "from random import shuffle"
   ]
  },
  {
   "cell_type": "code",
   "execution_count": 2,
   "metadata": {},
   "outputs": [],
   "source": [
    "# Introducing stopwords\n",
    "stop_words = stopwords.words('english')\n",
    "stop_words += ['p', 'em', 'nbsp', 'em','li', 'div', 'br', \n",
    "               'ul','ol','datacolumn','heading4','datalabel',\n",
    "               'col','foa','row',\n",
    "              '1396' , 'baghlan' , 'bphs', 'ephs', 'faryab',\n",
    "               'kandahar', 'p160615', 'sehat', 'sehatmandi', 'xxx', 'eleven', 'ray']"
   ]
  },
  {
   "cell_type": "code",
   "execution_count": 3,
   "metadata": {},
   "outputs": [],
   "source": [
    "df = pd.read_csv('Devex_train.csv', encoding='latin-1')"
   ]
  },
  {
   "cell_type": "code",
   "execution_count": 4,
   "metadata": {},
   "outputs": [],
   "source": [
    "# # printing all labels\n",
    "# print('Total number of labels =', len(df['Label 1'].unique()))\n",
    "# print(\"_________________________________________________________\")\n",
    "# df['Label 2'].unique()\n",
    "# labels1 = ['Label 1','Label 2','Label 3']\n",
    "# label_meanings = []\n",
    "# for x in labels1:\n",
    "#     for y in df[x].unique():\n",
    "#         label_meanings.append(y)\n",
    "# set(label_meanings)"
   ]
  },
  {
   "cell_type": "code",
   "execution_count": 5,
   "metadata": {
    "scrolled": false
   },
   "outputs": [],
   "source": [
    "data = df.copy()\n",
    "# lowercasing columns names\n",
    "data.columns= data.columns.str.lower()\n",
    "\n",
    "# removing spaces\n",
    "data.columns = data.columns.str.replace(' ', '')\n"
   ]
  },
  {
   "cell_type": "code",
   "execution_count": 6,
   "metadata": {},
   "outputs": [],
   "source": [
    "# fixing label column names\n",
    "for index,y in data.iterrows():\n",
    "    for x in range(12):\n",
    "        if not pd.isna(data.iloc[index,x+3]):\n",
    "            data.iloc[index,x+3] = (data.iloc[index,x+3][0:5])\n",
    "            \n",
    "data = data.iloc[:,:-2] # dropping last 2 columns, all null values"
   ]
  },
  {
   "cell_type": "code",
   "execution_count": 7,
   "metadata": {},
   "outputs": [
    {
     "data": {
      "text/plain": [
       "3.b.2    739\n",
       "3.4.1    363\n",
       "3.3.1    300\n",
       "3.8.1    210\n",
       "3.9.2    168\n",
       "3.d.1    145\n",
       "3.c.1    114\n",
       "3.7.1    109\n",
       "3.1.1    103\n",
       "3.b.1     93\n",
       "3.3.3     93\n",
       "3.3.2     82\n",
       "3.b.3     79\n",
       "3.3.5     69\n",
       "3.2.1     56\n",
       "3.2.2     47\n",
       "3.5.1     40\n",
       "3.9.1     35\n",
       "3.4.2     26\n",
       "3.9.3     25\n",
       "3.a.1     24\n",
       "3.5.2     18\n",
       "3.1.2     17\n",
       "3.3.4     17\n",
       "3.6.1     13\n",
       "3.7.2      6\n",
       "3.8.2      4\n",
       "Name: label1, dtype: int64"
      ]
     },
     "execution_count": 7,
     "metadata": {},
     "output_type": "execute_result"
    }
   ],
   "source": [
    "data['label1'].value_counts()"
   ]
  },
  {
   "cell_type": "code",
   "execution_count": 8,
   "metadata": {},
   "outputs": [
    {
     "data": {
      "text/plain": [
       "27"
      ]
     },
     "execution_count": 8,
     "metadata": {},
     "output_type": "execute_result"
    }
   ],
   "source": [
    "len(data['label1'].value_counts())"
   ]
  },
  {
   "cell_type": "code",
   "execution_count": 9,
   "metadata": {},
   "outputs": [
    {
     "data": {
      "image/png": "[encoded data removed]",
      "text/plain": [
       "<Figure size 432x288 with 1 Axes>"
      ]
     },
     "metadata": {
      "needs_background": "light"
     },
     "output_type": "display_data"
    }
   ],
   "source": [
    "plt.ylabel('number of non-null values')\n",
    "data.loc[:,'label2':'label10'].notnull().sum().plot(kind='barh');"
   ]
  },
  {
   "cell_type": "code",
   "execution_count": 10,
   "metadata": {},
   "outputs": [],
   "source": [
    "# lowering the case of text\n",
    "for index, y in data.iterrows():\n",
    "    data.loc[index,'text'] = data.loc[index,'text'].lower()"
   ]
  },
  {
   "cell_type": "code",
   "execution_count": 11,
   "metadata": {},
   "outputs": [],
   "source": [
    "# collating text\n",
    "text = []\n",
    "for x in data.loc[:,'text']:\n",
    "    text.append(x)"
   ]
  },
  {
   "cell_type": "code",
   "execution_count": 12,
   "metadata": {
    "code_folding": []
   },
   "outputs": [],
   "source": [
    "# tokenizing text (splitting each word)\n",
    "tokenizer = nltk.RegexpTokenizer(r\"\\w+\")\n",
    "data['tokens'] = '0'\n",
    "for index in data.index:\n",
    "    data.at[index,'tokens'] = tokenizer.tokenize(text[index])"
   ]
  },
  {
   "cell_type": "code",
   "execution_count": 13,
   "metadata": {},
   "outputs": [],
   "source": [
    "# removing tokens that are in stopwords\n",
    "for index in data.index:\n",
    "    data.at[index,'tokens'] = [x for x in data.loc[index,'tokens'] if x not in stop_words]"
   ]
  },
  {
   "cell_type": "code",
   "execution_count": 14,
   "metadata": {},
   "outputs": [],
   "source": [
    "# Freeing space\n",
    "del tokenizer, df, stop_words"
   ]
  },
  {
   "cell_type": "code",
   "execution_count": 15,
   "metadata": {},
   "outputs": [],
   "source": [
    "\n",
    "# list(nltk.bigrams(data['tokens'][0]))"
   ]
  },
  {
   "cell_type": "code",
   "execution_count": 16,
   "metadata": {},
   "outputs": [],
   "source": [
    "# bgs = nltk.bigrams(data['tokens'][0])\n",
    "# fdist = nltk.FreqDist(bgs)\n",
    "# fdist.most_common(10)\n",
    "\n",
    "# data['bigrams'] = '0'\n",
    "# for "
   ]
  },
  {
   "cell_type": "code",
   "execution_count": 17,
   "metadata": {},
   "outputs": [],
   "source": [
    "# get dummies\n",
    "data = data.join(data.loc[:,'label1':'label10'].stack().str.get_dummies().sum(level=0))"
   ]
  },
  {
   "cell_type": "code",
   "execution_count": 18,
   "metadata": {},
   "outputs": [],
   "source": [
    "# creating another column to showcase number of labels\n",
    "data['number_of_labels'] = 0\n",
    "for index, y in data.iterrows():\n",
    "    data.loc[index, 'number_of_labels'] = data.loc[index,'3.1.1':].sum()"
   ]
  },
  {
   "cell_type": "code",
   "execution_count": 19,
   "metadata": {},
   "outputs": [
    {
     "data": {
      "text/plain": [
       "<AxesSubplot:>"
      ]
     },
     "execution_count": 19,
     "metadata": {},
     "output_type": "execute_result"
    },
    {
     "data": {
      "image/png": "[encoded data removed]",
      "text/plain": [
       "<Figure size 432x288 with 1 Axes>"
      ]
     },
     "metadata": {
      "needs_background": "light"
     },
     "output_type": "display_data"
    }
   ],
   "source": [
    "data.loc[:,'3.1.1':'3.d.1'].sum().sort_values().plot(kind = 'bar')"
   ]
  },
  {
   "cell_type": "code",
   "execution_count": 20,
   "metadata": {},
   "outputs": [
    {
     "data": {
      "text/html": [
       "<div>\n",
       "<style scoped>\n",
       "    .dataframe tbody tr th:only-of-type {\n",
       "        vertical-align: middle;\n",
       "    }\n",
       "\n",
       "    .dataframe tbody tr th {\n",
       "        vertical-align: top;\n",
       "    }\n",
       "\n",
       "    .dataframe thead th {\n",
       "        text-align: right;\n",
       "    }\n",
       "</style>\n",
       "<table border=\"1\" class=\"dataframe\">\n",
       "  <thead>\n",
       "    <tr style=\"text-align: right;\">\n",
       "      <th></th>\n",
       "      <th>uniqueid</th>\n",
       "      <th>type</th>\n",
       "      <th>text</th>\n",
       "      <th>label1</th>\n",
       "      <th>label2</th>\n",
       "      <th>label3</th>\n",
       "      <th>label4</th>\n",
       "      <th>label5</th>\n",
       "      <th>label6</th>\n",
       "      <th>label7</th>\n",
       "      <th>...</th>\n",
       "      <th>3.9.1</th>\n",
       "      <th>3.9.2</th>\n",
       "      <th>3.9.3</th>\n",
       "      <th>3.a.1</th>\n",
       "      <th>3.b.1</th>\n",
       "      <th>3.b.2</th>\n",
       "      <th>3.b.3</th>\n",
       "      <th>3.c.1</th>\n",
       "      <th>3.d.1</th>\n",
       "      <th>number_of_labels</th>\n",
       "    </tr>\n",
       "  </thead>\n",
       "  <tbody>\n",
       "    <tr>\n",
       "      <th>0</th>\n",
       "      <td>12555</td>\n",
       "      <td>Grant</td>\n",
       "      <td>centers of biomedical research excellence (cob...</td>\n",
       "      <td>3.b.2</td>\n",
       "      <td>3.c.1</td>\n",
       "      <td>NaN</td>\n",
       "      <td>NaN</td>\n",
       "      <td>NaN</td>\n",
       "      <td>NaN</td>\n",
       "      <td>NaN</td>\n",
       "      <td>...</td>\n",
       "      <td>0</td>\n",
       "      <td>0</td>\n",
       "      <td>0</td>\n",
       "      <td>0</td>\n",
       "      <td>0</td>\n",
       "      <td>1</td>\n",
       "      <td>0</td>\n",
       "      <td>1</td>\n",
       "      <td>0</td>\n",
       "      <td>2</td>\n",
       "    </tr>\n",
       "    <tr>\n",
       "      <th>1</th>\n",
       "      <td>14108</td>\n",
       "      <td>Grant</td>\n",
       "      <td>research on regenerative medicine &lt;h2&gt;&lt;strong&gt;...</td>\n",
       "      <td>3.b.2</td>\n",
       "      <td>NaN</td>\n",
       "      <td>NaN</td>\n",
       "      <td>NaN</td>\n",
       "      <td>NaN</td>\n",
       "      <td>NaN</td>\n",
       "      <td>NaN</td>\n",
       "      <td>...</td>\n",
       "      <td>0</td>\n",
       "      <td>0</td>\n",
       "      <td>0</td>\n",
       "      <td>0</td>\n",
       "      <td>0</td>\n",
       "      <td>1</td>\n",
       "      <td>0</td>\n",
       "      <td>0</td>\n",
       "      <td>0</td>\n",
       "      <td>1</td>\n",
       "    </tr>\n",
       "    <tr>\n",
       "      <th>2</th>\n",
       "      <td>23168</td>\n",
       "      <td>Organization</td>\n",
       "      <td>catholic health association of india (chai): &lt;...</td>\n",
       "      <td>3.d.1</td>\n",
       "      <td>3.8.1</td>\n",
       "      <td>3.8.2</td>\n",
       "      <td>3.b.3</td>\n",
       "      <td>NaN</td>\n",
       "      <td>NaN</td>\n",
       "      <td>NaN</td>\n",
       "      <td>...</td>\n",
       "      <td>0</td>\n",
       "      <td>0</td>\n",
       "      <td>0</td>\n",
       "      <td>0</td>\n",
       "      <td>0</td>\n",
       "      <td>0</td>\n",
       "      <td>1</td>\n",
       "      <td>0</td>\n",
       "      <td>1</td>\n",
       "      <td>4</td>\n",
       "    </tr>\n",
       "    <tr>\n",
       "      <th>3</th>\n",
       "      <td>219512</td>\n",
       "      <td>Contract</td>\n",
       "      <td>quality improvement initiatives for diabetes</td>\n",
       "      <td>3.4.1</td>\n",
       "      <td>NaN</td>\n",
       "      <td>NaN</td>\n",
       "      <td>NaN</td>\n",
       "      <td>NaN</td>\n",
       "      <td>NaN</td>\n",
       "      <td>NaN</td>\n",
       "      <td>...</td>\n",
       "      <td>0</td>\n",
       "      <td>0</td>\n",
       "      <td>0</td>\n",
       "      <td>0</td>\n",
       "      <td>0</td>\n",
       "      <td>0</td>\n",
       "      <td>0</td>\n",
       "      <td>0</td>\n",
       "      <td>0</td>\n",
       "      <td>1</td>\n",
       "    </tr>\n",
       "    <tr>\n",
       "      <th>4</th>\n",
       "      <td>274093</td>\n",
       "      <td>Tender</td>\n",
       "      <td>provision of thalassemia drugs and disposables...</td>\n",
       "      <td>3.3.5</td>\n",
       "      <td>3.4.1</td>\n",
       "      <td>NaN</td>\n",
       "      <td>NaN</td>\n",
       "      <td>NaN</td>\n",
       "      <td>NaN</td>\n",
       "      <td>NaN</td>\n",
       "      <td>...</td>\n",
       "      <td>0</td>\n",
       "      <td>0</td>\n",
       "      <td>0</td>\n",
       "      <td>0</td>\n",
       "      <td>0</td>\n",
       "      <td>0</td>\n",
       "      <td>0</td>\n",
       "      <td>0</td>\n",
       "      <td>0</td>\n",
       "      <td>2</td>\n",
       "    </tr>\n",
       "  </tbody>\n",
       "</table>\n",
       "<p>5 rows × 42 columns</p>\n",
       "</div>"
      ],
      "text/plain": [
       "   uniqueid          type                                               text  \\\n",
       "0     12555         Grant  centers of biomedical research excellence (cob...   \n",
       "1     14108         Grant  research on regenerative medicine <h2><strong>...   \n",
       "2     23168  Organization  catholic health association of india (chai): <...   \n",
       "3    219512      Contract       quality improvement initiatives for diabetes   \n",
       "4    274093        Tender  provision of thalassemia drugs and disposables...   \n",
       "\n",
       "  label1 label2 label3 label4 label5 label6 label7  ... 3.9.1 3.9.2 3.9.3  \\\n",
       "0  3.b.2  3.c.1    NaN    NaN    NaN    NaN    NaN  ...     0     0     0   \n",
       "1  3.b.2    NaN    NaN    NaN    NaN    NaN    NaN  ...     0     0     0   \n",
       "2  3.d.1  3.8.1  3.8.2  3.b.3    NaN    NaN    NaN  ...     0     0     0   \n",
       "3  3.4.1    NaN    NaN    NaN    NaN    NaN    NaN  ...     0     0     0   \n",
       "4  3.3.5  3.4.1    NaN    NaN    NaN    NaN    NaN  ...     0     0     0   \n",
       "\n",
       "  3.a.1  3.b.1  3.b.2  3.b.3  3.c.1  3.d.1  number_of_labels  \n",
       "0     0      0      1      0      1      0                 2  \n",
       "1     0      0      1      0      0      0                 1  \n",
       "2     0      0      0      1      0      1                 4  \n",
       "3     0      0      0      0      0      0                 1  \n",
       "4     0      0      0      0      0      0                 2  \n",
       "\n",
       "[5 rows x 42 columns]"
      ]
     },
     "execution_count": 20,
     "metadata": {},
     "output_type": "execute_result"
    }
   ],
   "source": [
    "data.head()"
   ]
  },
  {
   "cell_type": "markdown",
   "metadata": {},
   "source": [
    "# Multi-Label Classification"
   ]
  },
  {
   "cell_type": "code",
   "execution_count": 21,
   "metadata": {},
   "outputs": [],
   "source": [
    "# splitting token column by labels - each set of tokens will be associated with \n",
    "# its label\n",
    "label_names = data.columns[14:-1]\n",
    "full_corpus_tokens = {}\n",
    "for label in label_names:\n",
    "    temp = []\n",
    "    for row_text in data[data[label] == 1]['tokens']:\n",
    "        for each_word in row_text:\n",
    "            temp.append(each_word)\n",
    "    full_corpus_tokens[label] = temp\n",
    "    \n",
    "del temp,label"
   ]
  },
  {
   "cell_type": "code",
   "execution_count": 22,
   "metadata": {},
   "outputs": [],
   "source": [
    "# function to convert tokens into tuple dictionaries for the classifier\n",
    "def document_features(document, word_list):\n",
    "    document_words = set(document) \n",
    "    features = {}\n",
    "    for word in word_list:\n",
    "        features['contains({})'.format(word)] = (word in document_words)\n",
    "    return features"
   ]
  },
  {
   "cell_type": "code",
   "execution_count": 23,
   "metadata": {},
   "outputs": [],
   "source": [
    "# getting most frequently occurred words by label. top 2000 words\n",
    "top_words_by_label = {}\n",
    "\n",
    "for label in label_names:\n",
    "    top_words_by_label[label] = list(nltk.FreqDist(full_corpus_tokens[label]))[:2000]"
   ]
  },
  {
   "cell_type": "code",
   "execution_count": 24,
   "metadata": {},
   "outputs": [],
   "source": [
    "# changing names of above only. nothing special. was getting confused. \n",
    "# ignore this code cell\n",
    "word_features_by_label = {}\n",
    "for label in label_names:\n",
    "    word_features_by_label[label] = top_words_by_label[label]"
   ]
  },
  {
   "cell_type": "code",
   "execution_count": 25,
   "metadata": {},
   "outputs": [],
   "source": [
    "# splitting tokens into is_label and not_label\n",
    "# for example all tokens not in the 3.b.2 label will be different from \n",
    "# all labels not in 3.b.2\n",
    "labeled_tokens_by_label = {}\n",
    "\n",
    "for label in label_names:\n",
    "    labeled_tokens = ([(tokens, label) for tokens in data[data[label] == 1].loc[:,'tokens']] +\n",
    "                      [(tokens, 'not_' + label) for tokens in data[data[label] == 0].loc[:,'tokens']])\n",
    "    shuffle(labeled_tokens)\n",
    "    labeled_tokens_by_label[label] = labeled_tokens\n",
    "    del(labeled_tokens)\n",
    "\n",
    "# labeled_tokens = ([(tokens, '3.b.2') for tokens in data[data['3.b.2'] == 1].loc[:,'tokens']] +\n",
    "#                   [(tokens, 'not_3.b.2') for tokens in data[data['3.b.2'] == 0].loc[:,'tokens']])"
   ]
  },
  {
   "cell_type": "code",
   "execution_count": 26,
   "metadata": {},
   "outputs": [],
   "source": [
    "# for x in data['tokens']:\n",
    "#     full_corpus_tokens += x\n",
    "\n",
    "# all_words = list(nltk.FreqDist(full_corpus_tokens))[:5000]\n",
    "# word_features = all_words\n",
    "# full_corpus_tokens = []\n"
   ]
  },
  {
   "cell_type": "code",
   "execution_count": 27,
   "metadata": {},
   "outputs": [],
   "source": [
    "featuresets_by_label = {}\n",
    "train_set_by_label = {}\n",
    "test_set_by_label = {}\n",
    "classifier_by_label = {}"
   ]
  },
  {
   "cell_type": "code",
   "execution_count": 28,
   "metadata": {},
   "outputs": [],
   "source": [
    "# this is where the magic happens\n",
    "# making a seperate classifier for each label\n",
    "for label in label_names:\n",
    "    featuresets_by_label[label] = [(document_features(d, word_features_by_label[label]), c) for (d,c) in labeled_tokens_by_label[label]]\n",
    "    \n",
    "    train_set_by_label[label], test_set_by_label[label] = featuresets_by_label[label][100:], featuresets_by_label[label][:100]\n",
    "    \n",
    "    classifier_by_label[label] = nltk.NaiveBayesClassifier.train(train_set_by_label[label])"
   ]
  },
  {
   "cell_type": "code",
   "execution_count": 29,
   "metadata": {},
   "outputs": [],
   "source": [
    "# creating a final set that i can compare our classifcation and true labels\n",
    "final_featuresets_by_label = {}\n",
    "for label in label_names:\n",
    "    final_featuresets_by_label[label] = [(document_features(d, word_features_by_label[label]), 'whatever') for (d) in data.loc[:100,'tokens']]\n",
    "# featuresets = [(document_features(d, word_features), c) for (d,c) in labeled_tokens]\n",
    "# train_set, test_set = featuresets[100:], featuresets[:100]\n",
    "# classifier = nltk.NaiveBayesClassifier.train(train_set)"
   ]
  },
  {
   "cell_type": "code",
   "execution_count": null,
   "metadata": {},
   "outputs": [],
   "source": []
  },
  {
   "cell_type": "code",
   "execution_count": 30,
   "metadata": {},
   "outputs": [],
   "source": [
    "del featuresets_by_label, train_set_by_label,  word_tokenize, word_features_by_label"
   ]
  },
  {
   "cell_type": "code",
   "execution_count": 31,
   "metadata": {},
   "outputs": [],
   "source": [
    "accuracy_by_label = {}\n",
    "for label in label_names:\n",
    "    accuracy_by_label[label] = (nltk.classify.accuracy(classifier_by_label[label], test_set_by_label[label]))"
   ]
  },
  {
   "cell_type": "code",
   "execution_count": 32,
   "metadata": {},
   "outputs": [
    {
     "name": "stdout",
     "output_type": "stream",
     "text": [
      "(label, accuracy) --- number of texts for the label\n",
      "('3.d.1', 0.46)   --- 217\n",
      "('3.8.1', 0.49)   --- 531\n",
      "('3.7.2', 0.52)   --- 165\n",
      "('3.7.1', 0.53)   --- 189\n",
      "('3.9.2', 0.59)   --- 218\n",
      "('3.3.3', 0.6)   --- 158\n",
      "('3.b.3', 0.64)   --- 397\n",
      "('3.3.2', 0.67)   --- 174\n",
      "('3.3.5', 0.67)   --- 156\n",
      "('3.c.1', 0.74)   --- 232\n",
      "('3.2.2', 0.77)   --- 138\n",
      "('3.9.1', 0.78)   --- 55\n",
      "('3.b.2', 0.78)   --- 1044\n",
      "('3.3.4', 0.82)   --- 53\n",
      "('3.5.2', 0.82)   --- 68\n",
      "('3.3.1', 0.83)   --- 372\n",
      "('3.4.1', 0.86)   --- 485\n",
      "('3.4.2', 0.86)   --- 61\n",
      "('3.9.3', 0.86)   --- 63\n",
      "('3.b.1', 0.86)   --- 185\n",
      "('3.1.1', 0.87)   --- 218\n",
      "('3.a.1', 0.87)   --- 76\n",
      "('3.8.2', 0.89)   --- 161\n",
      "('3.2.1', 0.91)   --- 249\n",
      "('3.1.2', 0.92)   --- 97\n",
      "('3.5.1', 0.93)   --- 123\n",
      "('3.6.1', 0.93)   --- 33\n"
     ]
    }
   ],
   "source": [
    "sorted_accuracies = (sorted(accuracy_by_label.items(), key = lambda kv:(kv[1], kv[0])))  \n",
    "print('(label, accuracy) --- number of texts for the label')\n",
    "for i in sorted_accuracies:\n",
    "    print(i,'  ---', data[i[0]].sum())"
   ]
  },
  {
   "cell_type": "code",
   "execution_count": 33,
   "metadata": {},
   "outputs": [],
   "source": [
    "#  '3.1.1 - Maternal mortality ratio' ,\n",
    "#  '3.1.2 - Proportion of births attended by skilled health personnel',\n",
    "#  '3.2.1 - Under-5 mortality rate',\n",
    "#  '3.2.2 - Neonatal mortality rate',\n",
    "#  '3.3.1 - Number of new HIV infections per 1,000 uninfected population, by sex, age and key populations',\n",
    "#  '3.3.2 - Tuberculosis incidence per 100,000 population',\n",
    "#  '3.3.3 - Malaria incidence per 1,000 population',\n",
    "#  '3.3.4 - Hepatitis B incidence per 100,000 population',\n",
    "#  '3.3.5 - Number of people requiring interventions against neglected tropical diseases',\n",
    "#  '3.4.1 - Mortality rate attributed to cardiovascular disease, cancer, diabetes or chronic respiratory disease',\n",
    "#  '3.4.2 - Suicide mortality rate',\n",
    "#  '3.5.1 - Coverage of treatment interventions (pharmacological, psychosocial and rehabilitation and aftercare services) for substance use disorders',\n",
    "#  '3.5.2 - Harmful use of alcohol, defined according to the national context as alcohol per capita consumption (aged 15 years and older) within a calendar year in litres of pure alcohol',\n",
    "#  '3.6.1 - Death rate due to road traffic injuries',\n",
    "#  '3.7.1 - Proportion of women of reproductive age (aged 15_49 years) who have their need for family planning satisfied with modern methods',\n",
    "#  '3.7.2 - Adolescent birth rate (aged 10_14 years; aged 15_19 years) per 1,000 women in that age group',\n",
    "#  '3.8.1 - Coverage of essential health services (defined as the average coverage of essential services based on tracer interventions that include reproductive, maternal, newborn and child health, infectious diseases, non-communicable diseases and service capacity and access, among the general and the most disadvantaged population)',\n",
    "#  '3.8.2 - Proportion of population with large household expenditures on health as a share of total household expenditure or income',\n",
    "#  '3.9.1 - Mortality rate attributed to household and ambient air pollution',\n",
    "#  '3.9.2 - Mortality rate attributed to unsafe water, unsafe sanitation and lack of hygiene (exposure to unsafe Water, Sanitation and Hygiene for All (WASH) services)',\n",
    "#  '3.9.3 - Mortality rate attributed to unintentional poisoning',\n",
    "#  '3.a.1 - Age-standardized prevalence of current tobacco use among persons aged 15 years and older',\n",
    "#  '3.b.1 - Proportion of the target population covered by all vaccines included in their national programme',\n",
    "#  '3.b.2 - Total net official development assistance to medical research and basic health sector',\n",
    "#  '3.b.3 - Proportion of health facilities that have a core set of relevant essential medicines available and affordable on a sustainable basis',\n",
    "#  '3.c.1 - Health worker density and distribution',\n",
    "#  '3.d.1 - International Health Regulations (IHR) capacity and health emergency preparedness',# "
   ]
  },
  {
   "cell_type": "code",
   "execution_count": 34,
   "metadata": {},
   "outputs": [
    {
     "name": "stdout",
     "output_type": "stream",
     "text": [
      "Most Informative Features\n",
      "       contains(toolkit) = True            3.b.2 : not_3. =     42.9 : 1.0\n",
      "     contains(drugabuse) = True            3.b.2 : not_3. =     31.7 : 1.0\n",
      "      contains(neuronal) = True            3.b.2 : not_3. =     26.7 : 1.0\n",
      "     contains(molecules) = True            3.b.2 : not_3. =     24.8 : 1.0\n",
      "contains(braininitiative) = True            3.b.2 : not_3. =     21.8 : 1.0\n",
      "           contains(nhs) = True            3.b.2 : not_3. =     19.5 : 1.0\n",
      "          contains(adrd) = True            3.b.2 : not_3. =     19.3 : 1.0\n",
      "          contains(nihr) = True            3.b.2 : not_3. =     19.3 : 1.0\n",
      "           contains(cns) = True            3.b.2 : not_3. =     19.0 : 1.0\n",
      "    contains(phenotypes) = True            3.b.2 : not_3. =     18.9 : 1.0\n",
      "         contains(nacda) = True            3.b.2 : not_3. =     17.5 : 1.0\n",
      "           contains(hta) = True            3.b.2 : not_3. =     16.1 : 1.0\n",
      "    contains(commonfund) = True            3.b.2 : not_3. =     16.0 : 1.0\n",
      "contains(neurobiological) = True            3.b.2 : not_3. =     16.0 : 1.0\n",
      "       contains(neurons) = True            3.b.2 : not_3. =     16.0 : 1.0\n",
      "    contains(physiology) = True            3.b.2 : not_3. =     16.0 : 1.0\n",
      "       contains(tissues) = True            3.b.2 : not_3. =     15.8 : 1.0\n",
      "         contains(hedge) = True            3.b.2 : not_3. =     15.5 : 1.0\n",
      "    contains(throughput) = True            3.b.2 : not_3. =     15.5 : 1.0\n",
      "  contains(metabolomics) = True            3.b.2 : not_3. =     15.3 : 1.0\n"
     ]
    }
   ],
   "source": [
    "classifier_by_label['3.b.2'].show_most_informative_features(20)"
   ]
  },
  {
   "cell_type": "code",
   "execution_count": 50,
   "metadata": {
    "cell_style": "split"
   },
   "outputs": [
    {
     "name": "stdout",
     "output_type": "stream",
     "text": [
      "predicted labels for rownumber: 93\n",
      "3.2.1\n",
      "3.7.1\n",
      "3.7.2\n"
     ]
    }
   ],
   "source": [
    "row_number = 93\n",
    "print('predicted labels for rownumber: {}'.format(row_number))\n",
    "for label in label_names:\n",
    "        if 'not' in classifier_by_label[label].classify(final_featuresets_by_label[label][row_number][0]):\n",
    "            continue\n",
    "        print(classifier_by_label[label].classify(final_featuresets_by_label[label][row_number][0]))"
   ]
  },
  {
   "cell_type": "code",
   "execution_count": 51,
   "metadata": {
    "cell_style": "split"
   },
   "outputs": [
    {
     "name": "stdout",
     "output_type": "stream",
     "text": [
      "actual labels for rownumber: 93\n",
      "3.2.1\n",
      "3.7.1\n",
      "3.7.2\n"
     ]
    }
   ],
   "source": [
    "print('actual labels for rownumber: {}'.format(row_number))\n",
    "for label in label_names:\n",
    "    if data.loc[row_number,label] == 1:\n",
    "        print(label)\n",
    "\n"
   ]
  },
  {
   "cell_type": "code",
   "execution_count": 37,
   "metadata": {},
   "outputs": [],
   "source": [
    "predicted_labels_by_row = {}\n",
    "actual_labels_by_row = {}\n",
    "for row in range(100):\n",
    "    current_predictions = []\n",
    "    current_actuals = []\n",
    "    for label in label_names:\n",
    "        if 'not' not in classifier_by_label[label].classify(final_featuresets_by_label[label][row][0]):\n",
    "            current_predictions.append(classifier_by_label[label].classify(final_featuresets_by_label[label][row][0]))\n",
    "        if data.loc[row,label] == 1:\n",
    "            current_actuals.append(label)\n",
    "    predicted_labels_by_row[row] = current_predictions\n",
    "    actual_labels_by_row[row] = current_actuals"
   ]
  },
  {
   "cell_type": "code",
   "execution_count": 52,
   "metadata": {
    "scrolled": true
   },
   "outputs": [
    {
     "data": {
      "text/plain": [
       "63.333333333333336"
      ]
     },
     "execution_count": 52,
     "metadata": {},
     "output_type": "execute_result"
    }
   ],
   "source": [
    "ultimate_accuracy = []\n",
    "for i in range(100):\n",
    "    length = len(actual_labels_by_row[i])\n",
    "    qwe = 0\n",
    "    for actual in actual_labels_by_row[i]:\n",
    "        if actual in predicted_labels_by_row[i]:\n",
    "            qwe += 1\n",
    "    ultimate_accuracy.append(qwe/length)\n",
    "sum(ultimate_accuracy)"
   ]
  }
 ],
 "metadata": {
  "kernelspec": {
   "display_name": "Python 3",
   "language": "python",
   "name": "python3"
  },
  "language_info": {
   "codemirror_mode": {
    "name": "ipython",
    "version": 3
   },
   "file_extension": ".py",
   "mimetype": "text/x-python",
   "name": "python",
   "nbconvert_exporter": "python",
   "pygments_lexer": "ipython3",
   "version": "3.8.5"
  },
  "toc": {
   "base_numbering": 1,
   "nav_menu": {},
   "number_sections": true,
   "sideBar": true,
   "skip_h1_title": false,
   "title_cell": "Table of Contents",
   "title_sidebar": "Contents",
   "toc_cell": false,
   "toc_position": {},
   "toc_section_display": true,
   "toc_window_display": false
  },
  "varInspector": {
   "cols": {
    "lenName": 16,
    "lenType": 16,
    "lenVar": 40
   },
   "kernels_config": {
    "python": {
     "delete_cmd_postfix": "",
     "delete_cmd_prefix": "del ",
     "library": "var_list.py",
     "varRefreshCmd": "print(var_dic_list())"
    },
    "r": {
     "delete_cmd_postfix": ") ",
     "delete_cmd_prefix": "rm(",
     "library": "var_list.r",
     "varRefreshCmd": "cat(var_dic_list()) "
    }
   },
   "position": {
    "height": "595.4px",
    "left": "1221px",
    "right": "20px",
    "top": "121px",
    "width": "295px"
   },
   "types_to_exclude": [
    "module",
    "function",
    "builtin_function_or_method",
    "instance",
    "_Feature"
   ],
   "window_display": false
  }
 },
 "nbformat": 4,
 "nbformat_minor": 4
}
